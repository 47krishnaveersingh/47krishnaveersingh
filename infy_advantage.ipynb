{
  "nbformat": 4,
  "nbformat_minor": 0,
  "metadata": {
    "colab": {
      "name": "infy_advantage.ipynb",
      "provenance": [],
      "authorship_tag": "ABX9TyPKzvUH8xrKErQUJvEM7pr4",
      "include_colab_link": true
    },
    "kernelspec": {
      "name": "python3",
      "display_name": "Python 3"
    },
    "language_info": {
      "name": "python"
    }
  },
  "cells": [
    {
      "cell_type": "markdown",
      "metadata": {
        "id": "view-in-github",
        "colab_type": "text"
      },
      "source": [
        "<a href=\"https://colab.research.google.com/github/47krishnaveersingh/47krishnaveersingh/blob/master/infy_advantage.ipynb\" target=\"_parent\"><img src=\"https://colab.research.google.com/assets/colab-badge.svg\" alt=\"Open In Colab\"/></a>"
      ]
    },
    {
      "cell_type": "code",
      "metadata": {
        "id": "ShNdq9wld9EZ"
      },
      "source": [
        "s1=\"krishnaveerSingh\""
      ],
      "execution_count": 1,
      "outputs": []
    },
    {
      "cell_type": "code",
      "metadata": {
        "colab": {
          "base_uri": "https://localhost:8080/",
          "height": 35
        },
        "id": "PdJNkhgNexby",
        "outputId": "97382967-aeb9-4b45-82c3-93625fe09937"
      },
      "source": [
        "s1.capitalize()"
      ],
      "execution_count": 2,
      "outputs": [
        {
          "output_type": "execute_result",
          "data": {
            "application/vnd.google.colaboratory.intrinsic+json": {
              "type": "string"
            },
            "text/plain": [
              "'Krishnaveersingh'"
            ]
          },
          "metadata": {
            "tags": []
          },
          "execution_count": 2
        }
      ]
    },
    {
      "cell_type": "code",
      "metadata": {
        "colab": {
          "base_uri": "https://localhost:8080/",
          "height": 35
        },
        "id": "YvnsW7EjfAPg",
        "outputId": "4fc51425-f537-4889-9675-a20609c8dad4"
      },
      "source": [
        "s1.casefold()#for caseless comparison"
      ],
      "execution_count": 3,
      "outputs": [
        {
          "output_type": "execute_result",
          "data": {
            "application/vnd.google.colaboratory.intrinsic+json": {
              "type": "string"
            },
            "text/plain": [
              "'krishnaveersingh'"
            ]
          },
          "metadata": {
            "tags": []
          },
          "execution_count": 3
        }
      ]
    },
    {
      "cell_type": "code",
      "metadata": {
        "colab": {
          "base_uri": "https://localhost:8080/",
          "height": 35
        },
        "id": "VP5cNqtjfFSo",
        "outputId": "f81ecb50-0321-4292-9340-2ca50e4a05e6"
      },
      "source": [
        "s1.center(20,\"-\")"
      ],
      "execution_count": 6,
      "outputs": [
        {
          "output_type": "execute_result",
          "data": {
            "application/vnd.google.colaboratory.intrinsic+json": {
              "type": "string"
            },
            "text/plain": [
              "'--krishnaveerSingh--'"
            ]
          },
          "metadata": {
            "tags": []
          },
          "execution_count": 6
        }
      ]
    },
    {
      "cell_type": "code",
      "metadata": {
        "colab": {
          "base_uri": "https://localhost:8080/"
        },
        "id": "mfzbExT9faFE",
        "outputId": "824cf33a-95cd-47d2-d05b-5b7b6e656e40"
      },
      "source": [
        "s1.count(\"i\",3,len(s1))"
      ],
      "execution_count": 8,
      "outputs": [
        {
          "output_type": "execute_result",
          "data": {
            "text/plain": [
              "1"
            ]
          },
          "metadata": {
            "tags": []
          },
          "execution_count": 8
        }
      ]
    },
    {
      "cell_type": "code",
      "metadata": {
        "colab": {
          "base_uri": "https://localhost:8080/"
        },
        "id": "kACTpKryhFBa",
        "outputId": "472cf5bf-5095-49c0-9f9d-87960c6541ce"
      },
      "source": [
        "s1.encode()"
      ],
      "execution_count": 9,
      "outputs": [
        {
          "output_type": "execute_result",
          "data": {
            "text/plain": [
              "b'krishnaveerSingh'"
            ]
          },
          "metadata": {
            "tags": []
          },
          "execution_count": 9
        }
      ]
    },
    {
      "cell_type": "code",
      "metadata": {
        "colab": {
          "base_uri": "https://localhost:8080/"
        },
        "id": "aLtHfFmRh-pX",
        "outputId": "e8b60fa9-1665-4182-9856-266b8f0349b5"
      },
      "source": [
        "s1.endswith(\"er\",0,11)#includes last digit also"
      ],
      "execution_count": 11,
      "outputs": [
        {
          "output_type": "execute_result",
          "data": {
            "text/plain": [
              "True"
            ]
          },
          "metadata": {
            "tags": []
          },
          "execution_count": 11
        }
      ]
    },
    {
      "cell_type": "code",
      "metadata": {
        "colab": {
          "base_uri": "https://localhost:8080/",
          "height": 35
        },
        "id": "Uq_dUysGiiyg",
        "outputId": "7b960edc-fdc4-481e-c2fe-f55270b29e35"
      },
      "source": [
        "s2=\"1\\t2\"\n",
        "s2.expandtabs(4)#to expand tabs"
      ],
      "execution_count": 19,
      "outputs": [
        {
          "output_type": "execute_result",
          "data": {
            "application/vnd.google.colaboratory.intrinsic+json": {
              "type": "string"
            },
            "text/plain": [
              "'1   2'"
            ]
          },
          "metadata": {
            "tags": []
          },
          "execution_count": 19
        }
      ]
    },
    {
      "cell_type": "code",
      "metadata": {
        "colab": {
          "base_uri": "https://localhost:8080/"
        },
        "id": "hf54OegpjAm4",
        "outputId": "97326035-5203-4b21-e20f-20b6d8557a24"
      },
      "source": [
        "s1.find(\"e\",0,9)"
      ],
      "execution_count": 21,
      "outputs": [
        {
          "output_type": "execute_result",
          "data": {
            "text/plain": [
              "8"
            ]
          },
          "metadata": {
            "tags": []
          },
          "execution_count": 21
        }
      ]
    },
    {
      "cell_type": "code",
      "metadata": {
        "colab": {
          "base_uri": "https://localhost:8080/"
        },
        "id": "1tXTbWfjjs-c",
        "outputId": "fedf3843-f166-42b4-b34b-6c65f162eaf4"
      },
      "source": [
        "print(\"hi my name is {0} and i have scored:{1:9.3f}\".format(\"Krishnaveer singh\",435.5966))"
      ],
      "execution_count": 23,
      "outputs": [
        {
          "output_type": "stream",
          "text": [
            "hi my name is Krishnaveer singh and i have scored:  435.597\n"
          ],
          "name": "stdout"
        }
      ]
    },
    {
      "cell_type": "code",
      "metadata": {
        "colab": {
          "base_uri": "https://localhost:8080/"
        },
        "id": "isxUFXLTmJNB",
        "outputId": "638c311b-e143-47aa-a4b4-822523c79663"
      },
      "source": [
        "# integer arguments\n",
        "print(\"The number is:{:d}\".format(123))\n",
        "\n",
        "# float arguments\n",
        "print(\"The float number is:{:f}\".format(123.4567898))\n",
        "\n",
        "# octal, binary and hexadecimal format\n",
        "print(\"bin: {0:b}, oct: {0:o}, hex: {0:x}\".format(12))"
      ],
      "execution_count": 24,
      "outputs": [
        {
          "output_type": "stream",
          "text": [
            "The number is:123\n",
            "The float number is:123.456790\n",
            "bin: 1100, oct: 14, hex: c\n"
          ],
          "name": "stdout"
        }
      ]
    },
    {
      "cell_type": "code",
      "metadata": {
        "colab": {
          "base_uri": "https://localhost:8080/"
        },
        "id": "IGCBb4YDpaXX",
        "outputId": "2dbe4ecf-8adc-437d-f197-0775dc09bde5"
      },
      "source": [
        "# integer numbers with minimum width\n",
        "print(\"{:5d}\".format(12))\n",
        "\n",
        "# width doesn't work for numbers longer than padding\n",
        "print(\"{:2d}\".format(1234))\n",
        "\n",
        "# padding for float numbers\n",
        "print(\"{:8.3f}\".format(12.2346))\n",
        "\n",
        "# integer numbers with minimum width filled with zeros\n",
        "print(\"{:05d}\".format(12))\n",
        "\n",
        "# padding for float numbers filled with zeros\n",
        "print(\"{:08.3f}\".format(12.2346))"
      ],
      "execution_count": 25,
      "outputs": [
        {
          "output_type": "stream",
          "text": [
            "   12\n",
            "1234\n",
            "  12.235\n",
            "00012\n",
            "0012.235\n"
          ],
          "name": "stdout"
        }
      ]
    },
    {
      "cell_type": "code",
      "metadata": {
        "colab": {
          "base_uri": "https://localhost:8080/"
        },
        "id": "G8l_fSJRpsux",
        "outputId": "d2fc8829-0d53-4318-c159-b93d8e68b5d1"
      },
      "source": [
        "s1.index(\"ris\",0,5)#returns first index where found"
      ],
      "execution_count": 28,
      "outputs": [
        {
          "output_type": "execute_result",
          "data": {
            "text/plain": [
              "1"
            ]
          },
          "metadata": {
            "tags": []
          },
          "execution_count": 28
        }
      ]
    },
    {
      "cell_type": "code",
      "metadata": {
        "colab": {
          "base_uri": "https://localhost:8080/"
        },
        "id": "-lZ6-6r8rzZq",
        "outputId": "1655bb45-e9ac-4154-a420-a3759d815494"
      },
      "source": [
        "s1.isalnum()"
      ],
      "execution_count": 29,
      "outputs": [
        {
          "output_type": "execute_result",
          "data": {
            "text/plain": [
              "True"
            ]
          },
          "metadata": {
            "tags": []
          },
          "execution_count": 29
        }
      ]
    },
    {
      "cell_type": "code",
      "metadata": {
        "colab": {
          "base_uri": "https://localhost:8080/"
        },
        "id": "m4QPDJbQsB-C",
        "outputId": "2301683a-44a4-480a-d572-d4f113ac2c74"
      },
      "source": [
        "s1.isalpha()"
      ],
      "execution_count": 30,
      "outputs": [
        {
          "output_type": "execute_result",
          "data": {
            "text/plain": [
              "True"
            ]
          },
          "metadata": {
            "tags": []
          },
          "execution_count": 30
        }
      ]
    },
    {
      "cell_type": "code",
      "metadata": {
        "colab": {
          "base_uri": "https://localhost:8080/"
        },
        "id": "MXd25qhGsFj-",
        "outputId": "e0a6bec5-2e9e-4a47-daf1-b615ab1c0c88"
      },
      "source": [
        "s1.isascii()"
      ],
      "execution_count": 31,
      "outputs": [
        {
          "output_type": "execute_result",
          "data": {
            "text/plain": [
              "True"
            ]
          },
          "metadata": {
            "tags": []
          },
          "execution_count": 31
        }
      ]
    },
    {
      "cell_type": "code",
      "metadata": {
        "colab": {
          "base_uri": "https://localhost:8080/"
        },
        "id": "c9lmwAvgsLps",
        "outputId": "4eaf72d7-1d9c-40db-9a8e-e7e2d6043acb"
      },
      "source": [
        "s1.isdecimal()"
      ],
      "execution_count": 32,
      "outputs": [
        {
          "output_type": "execute_result",
          "data": {
            "text/plain": [
              "False"
            ]
          },
          "metadata": {
            "tags": []
          },
          "execution_count": 32
        }
      ]
    },
    {
      "cell_type": "code",
      "metadata": {
        "colab": {
          "base_uri": "https://localhost:8080/"
        },
        "id": "g0NQLYN6v0dE",
        "outputId": "3933ba50-71cd-4c30-9c0c-0f5bcd809afc"
      },
      "source": [
        "s1.isdigit()"
      ],
      "execution_count": 33,
      "outputs": [
        {
          "output_type": "execute_result",
          "data": {
            "text/plain": [
              "False"
            ]
          },
          "metadata": {
            "tags": []
          },
          "execution_count": 33
        }
      ]
    },
    {
      "cell_type": "code",
      "metadata": {
        "colab": {
          "base_uri": "https://localhost:8080/"
        },
        "id": "jSzvaPEmv5eH",
        "outputId": "1858cfc8-661d-4e95-ac50-764ad3ab8cac"
      },
      "source": [
        "s1.isidentifier()"
      ],
      "execution_count": 34,
      "outputs": [
        {
          "output_type": "execute_result",
          "data": {
            "text/plain": [
              "True"
            ]
          },
          "metadata": {
            "tags": []
          },
          "execution_count": 34
        }
      ]
    },
    {
      "cell_type": "code",
      "metadata": {
        "colab": {
          "base_uri": "https://localhost:8080/"
        },
        "id": "LdMgQwajv-8u",
        "outputId": "44831080-0209-40e2-f822-73c8201b30f8"
      },
      "source": [
        "\"m n\".isidentifier()"
      ],
      "execution_count": 38,
      "outputs": [
        {
          "output_type": "execute_result",
          "data": {
            "text/plain": [
              "False"
            ]
          },
          "metadata": {
            "tags": []
          },
          "execution_count": 38
        }
      ]
    },
    {
      "cell_type": "code",
      "metadata": {
        "colab": {
          "base_uri": "https://localhost:8080/"
        },
        "id": "w-CTeoENw5D-",
        "outputId": "7e7c70a4-1608-469a-bf2c-079c098533be"
      },
      "source": [
        "s1.islower()"
      ],
      "execution_count": 39,
      "outputs": [
        {
          "output_type": "execute_result",
          "data": {
            "text/plain": [
              "False"
            ]
          },
          "metadata": {
            "tags": []
          },
          "execution_count": 39
        }
      ]
    },
    {
      "cell_type": "code",
      "metadata": {
        "colab": {
          "base_uri": "https://localhost:8080/",
          "height": 35
        },
        "id": "8Hsxr3zSxCwz",
        "outputId": "a3fb9000-508d-420b-df69-583a336ffcad"
      },
      "source": [
        "s1"
      ],
      "execution_count": 40,
      "outputs": [
        {
          "output_type": "execute_result",
          "data": {
            "application/vnd.google.colaboratory.intrinsic+json": {
              "type": "string"
            },
            "text/plain": [
              "'krishnaveerSingh'"
            ]
          },
          "metadata": {
            "tags": []
          },
          "execution_count": 40
        }
      ]
    },
    {
      "cell_type": "code",
      "metadata": {
        "colab": {
          "base_uri": "https://localhost:8080/"
        },
        "id": "XARL-rWPxD4T",
        "outputId": "f44ece08-b5ed-4d2a-97e8-4ef72eaf9218"
      },
      "source": [
        "s1.isnumeric()"
      ],
      "execution_count": 41,
      "outputs": [
        {
          "output_type": "execute_result",
          "data": {
            "text/plain": [
              "False"
            ]
          },
          "metadata": {
            "tags": []
          },
          "execution_count": 41
        }
      ]
    },
    {
      "cell_type": "code",
      "metadata": {
        "colab": {
          "base_uri": "https://localhost:8080/"
        },
        "id": "1mdPzPJAxKwC",
        "outputId": "91fa899b-2909-4656-c7fe-44b8423e76d1"
      },
      "source": [
        "s1.isprintable()"
      ],
      "execution_count": 42,
      "outputs": [
        {
          "output_type": "execute_result",
          "data": {
            "text/plain": [
              "True"
            ]
          },
          "metadata": {
            "tags": []
          },
          "execution_count": 42
        }
      ]
    },
    {
      "cell_type": "code",
      "metadata": {
        "colab": {
          "base_uri": "https://localhost:8080/"
        },
        "id": "xwvRwluExkcg",
        "outputId": "14769f1a-e2f4-46f8-dfcc-b2150239d877"
      },
      "source": [
        "s1.isspace()"
      ],
      "execution_count": 43,
      "outputs": [
        {
          "output_type": "execute_result",
          "data": {
            "text/plain": [
              "False"
            ]
          },
          "metadata": {
            "tags": []
          },
          "execution_count": 43
        }
      ]
    },
    {
      "cell_type": "code",
      "metadata": {
        "colab": {
          "base_uri": "https://localhost:8080/"
        },
        "id": "VHw-eVCZxsJ6",
        "outputId": "cff636eb-061c-4b40-b34c-8f9282c24a54"
      },
      "source": [
        "s1.istitle()"
      ],
      "execution_count": 44,
      "outputs": [
        {
          "output_type": "execute_result",
          "data": {
            "text/plain": [
              "False"
            ]
          },
          "metadata": {
            "tags": []
          },
          "execution_count": 44
        }
      ]
    },
    {
      "cell_type": "code",
      "metadata": {
        "colab": {
          "base_uri": "https://localhost:8080/"
        },
        "id": "3_OJpmcFyGuA",
        "outputId": "2e5b63b4-a983-4f64-b47f-b31a5c7fcbe1"
      },
      "source": [
        "s1.isupper()"
      ],
      "execution_count": 45,
      "outputs": [
        {
          "output_type": "execute_result",
          "data": {
            "text/plain": [
              "False"
            ]
          },
          "metadata": {
            "tags": []
          },
          "execution_count": 45
        }
      ]
    },
    {
      "cell_type": "code",
      "metadata": {
        "colab": {
          "base_uri": "https://localhost:8080/",
          "height": 35
        },
        "id": "AMF_Ll9PyNh-",
        "outputId": "fb41f3f3-6335-4381-866f-6c325eb9ed08"
      },
      "source": [
        "l=[1,2,3,4]\n",
        "str(l)"
      ],
      "execution_count": 49,
      "outputs": [
        {
          "output_type": "execute_result",
          "data": {
            "application/vnd.google.colaboratory.intrinsic+json": {
              "type": "string"
            },
            "text/plain": [
              "'[1, 2, 3, 4]'"
            ]
          },
          "metadata": {
            "tags": []
          },
          "execution_count": 49
        }
      ]
    },
    {
      "cell_type": "code",
      "metadata": {
        "colab": {
          "base_uri": "https://localhost:8080/",
          "height": 35
        },
        "id": "PEaPjSKAzA6M",
        "outputId": "f60412b6-3b05-4e16-8e3f-bb033106390f"
      },
      "source": [
        "\", \".join(str(i)for i in l)"
      ],
      "execution_count": 51,
      "outputs": [
        {
          "output_type": "execute_result",
          "data": {
            "application/vnd.google.colaboratory.intrinsic+json": {
              "type": "string"
            },
            "text/plain": [
              "'1, 2, 3, 4'"
            ]
          },
          "metadata": {
            "tags": []
          },
          "execution_count": 51
        }
      ]
    },
    {
      "cell_type": "code",
      "metadata": {
        "colab": {
          "base_uri": "https://localhost:8080/"
        },
        "id": "1Ece1MLEzbrB",
        "outputId": "1abd8449-f226-4ada-a84d-0d6a38e53dff"
      },
      "source": [
        "# example string\n",
        "string = 'cat'\n",
        "width = 5\n",
        "fillchar = '*'\n",
        "\n",
        "# print left justified string\n",
        "print(string.ljust(width, fillchar))"
      ],
      "execution_count": 53,
      "outputs": [
        {
          "output_type": "stream",
          "text": [
            "cat**\n"
          ],
          "name": "stdout"
        }
      ]
    },
    {
      "cell_type": "code",
      "metadata": {
        "colab": {
          "base_uri": "https://localhost:8080/",
          "height": 35
        },
        "id": "JKBvK-ZMzuEl",
        "outputId": "2fd9106c-a88f-4566-af58-bb3b7e98382f"
      },
      "source": [
        "s1.lower()"
      ],
      "execution_count": 54,
      "outputs": [
        {
          "output_type": "execute_result",
          "data": {
            "application/vnd.google.colaboratory.intrinsic+json": {
              "type": "string"
            },
            "text/plain": [
              "'krishnaveersingh'"
            ]
          },
          "metadata": {
            "tags": []
          },
          "execution_count": 54
        }
      ]
    },
    {
      "cell_type": "code",
      "metadata": {
        "colab": {
          "base_uri": "https://localhost:8080/",
          "height": 35
        },
        "id": "g0gnR0O42bbk",
        "outputId": "f2e580b0-44ab-4db1-bde1-a4a2fbbc669b"
      },
      "source": [
        "s1.lstrip(\"kris\")"
      ],
      "execution_count": 58,
      "outputs": [
        {
          "output_type": "execute_result",
          "data": {
            "application/vnd.google.colaboratory.intrinsic+json": {
              "type": "string"
            },
            "text/plain": [
              "'hnaveerSingh'"
            ]
          },
          "metadata": {
            "tags": []
          },
          "execution_count": 58
        }
      ]
    },
    {
      "cell_type": "code",
      "metadata": {
        "colab": {
          "base_uri": "https://localhost:8080/"
        },
        "id": "e_066Edk2tkC",
        "outputId": "a439f92e-d814-470d-d6a5-da6a0ebc0190"
      },
      "source": [
        "\"456=52\".partition(\"=\")"
      ],
      "execution_count": 63,
      "outputs": [
        {
          "output_type": "execute_result",
          "data": {
            "text/plain": [
              "('456', '=', '52')"
            ]
          },
          "metadata": {
            "tags": []
          },
          "execution_count": 63
        }
      ]
    },
    {
      "cell_type": "code",
      "metadata": {
        "colab": {
          "base_uri": "https://localhost:8080/",
          "height": 35
        },
        "id": "j1I-SWsr6kQz",
        "outputId": "1884e82a-2c7a-4979-833b-ee19911d3d00"
      },
      "source": [
        "s1.replace(\"k\",\"K\",1)"
      ],
      "execution_count": 69,
      "outputs": [
        {
          "output_type": "execute_result",
          "data": {
            "application/vnd.google.colaboratory.intrinsic+json": {
              "type": "string"
            },
            "text/plain": [
              "'KrishnaveerSingh'"
            ]
          },
          "metadata": {
            "tags": []
          },
          "execution_count": 69
        }
      ]
    },
    {
      "cell_type": "code",
      "metadata": {
        "colab": {
          "base_uri": "https://localhost:8080/"
        },
        "id": "icokrbIy6_2N",
        "outputId": "bc5a487d-8c94-4bb5-8ba0-b538873d8fb8"
      },
      "source": [
        "s1.rfind(\"h\")"
      ],
      "execution_count": 71,
      "outputs": [
        {
          "output_type": "execute_result",
          "data": {
            "text/plain": [
              "15"
            ]
          },
          "metadata": {
            "tags": []
          },
          "execution_count": 71
        }
      ]
    },
    {
      "cell_type": "code",
      "metadata": {
        "colab": {
          "base_uri": "https://localhost:8080/"
        },
        "id": "Q8dXM9iV7VkK",
        "outputId": "daf29a2f-9821-4528-bec9-769b68af80f7"
      },
      "source": [
        "s1.rindex(\"g\")"
      ],
      "execution_count": 73,
      "outputs": [
        {
          "output_type": "execute_result",
          "data": {
            "text/plain": [
              "14"
            ]
          },
          "metadata": {
            "tags": []
          },
          "execution_count": 73
        }
      ]
    },
    {
      "cell_type": "code",
      "metadata": {
        "colab": {
          "base_uri": "https://localhost:8080/"
        },
        "id": "syz46hip7aNZ",
        "outputId": "88c1c40c-aa4a-4f6f-9c53-775d85923e7e"
      },
      "source": [
        "s1.rpartition(\"g\")"
      ],
      "execution_count": 74,
      "outputs": [
        {
          "output_type": "execute_result",
          "data": {
            "text/plain": [
              "('krishnaveerSin', 'g', 'h')"
            ]
          },
          "metadata": {
            "tags": []
          },
          "execution_count": 74
        }
      ]
    },
    {
      "cell_type": "code",
      "metadata": {
        "colab": {
          "base_uri": "https://localhost:8080/",
          "height": 35
        },
        "id": "5X7q29pL7uSm",
        "outputId": "62f2872f-4d62-4958-be36-a1303977e039"
      },
      "source": [
        "s1.rjust(20,\"*\")"
      ],
      "execution_count": 75,
      "outputs": [
        {
          "output_type": "execute_result",
          "data": {
            "application/vnd.google.colaboratory.intrinsic+json": {
              "type": "string"
            },
            "text/plain": [
              "'****krishnaveerSingh'"
            ]
          },
          "metadata": {
            "tags": []
          },
          "execution_count": 75
        }
      ]
    },
    {
      "cell_type": "code",
      "metadata": {
        "colab": {
          "base_uri": "https://localhost:8080/"
        },
        "id": "yJia0LtC7-ez",
        "outputId": "9eb22cc6-185f-4120-e1b2-90538e5defdf"
      },
      "source": [
        "s1.rsplit(\"i\",1)#splits at argument and no of splits"
      ],
      "execution_count": 76,
      "outputs": [
        {
          "output_type": "execute_result",
          "data": {
            "text/plain": [
              "['krishnaveerS', 'ngh']"
            ]
          },
          "metadata": {
            "tags": []
          },
          "execution_count": 76
        }
      ]
    },
    {
      "cell_type": "code",
      "metadata": {
        "colab": {
          "base_uri": "https://localhost:8080/",
          "height": 35
        },
        "id": "tH8NndL98ocz",
        "outputId": "b2d16658-d6c6-47aa-ac55-eccb4e6dcca8"
      },
      "source": [
        "s1.rstrip(\"gh\")"
      ],
      "execution_count": 77,
      "outputs": [
        {
          "output_type": "execute_result",
          "data": {
            "application/vnd.google.colaboratory.intrinsic+json": {
              "type": "string"
            },
            "text/plain": [
              "'krishnaveerSin'"
            ]
          },
          "metadata": {
            "tags": []
          },
          "execution_count": 77
        }
      ]
    },
    {
      "cell_type": "code",
      "metadata": {
        "colab": {
          "base_uri": "https://localhost:8080/"
        },
        "id": "i5EWEfdy9y4k",
        "outputId": "970de7f5-9461-456a-e765-937e4c3b4184"
      },
      "source": [
        "s1.split(\"h\")"
      ],
      "execution_count": 79,
      "outputs": [
        {
          "output_type": "execute_result",
          "data": {
            "text/plain": [
              "['kris', 'naveerSing', '']"
            ]
          },
          "metadata": {
            "tags": []
          },
          "execution_count": 79
        }
      ]
    },
    {
      "cell_type": "code",
      "metadata": {
        "colab": {
          "base_uri": "https://localhost:8080/"
        },
        "id": "srsfTN1M95l3",
        "outputId": "ef6a2761-beb5-45dc-d22d-259a64181b12"
      },
      "source": [
        "grocery = 'Milk\\nChicken\\r\\nBread\\rButter'\n",
        "\n",
        "print(grocery.splitlines())\n",
        "print(grocery.splitlines(True))\n",
        "\n",
        "grocery = 'Milk Chicken Bread Butter'\n",
        "print(grocery.splitlines())\n"
      ],
      "execution_count": 80,
      "outputs": [
        {
          "output_type": "stream",
          "text": [
            "['Milk', 'Chicken', 'Bread', 'Butter']\n",
            "['Milk\\n', 'Chicken\\r\\n', 'Bread\\r', 'Butter']\n",
            "['Milk Chicken Bread Butter']\n"
          ],
          "name": "stdout"
        }
      ]
    },
    {
      "cell_type": "code",
      "metadata": {
        "colab": {
          "base_uri": "https://localhost:8080/"
        },
        "id": "IC_TddiSBXy_",
        "outputId": "0534cdea-56b0-44ee-ab44-7163d5dc2a76"
      },
      "source": [
        "s1.startswith(\"krish\")"
      ],
      "execution_count": 81,
      "outputs": [
        {
          "output_type": "execute_result",
          "data": {
            "text/plain": [
              "True"
            ]
          },
          "metadata": {
            "tags": []
          },
          "execution_count": 81
        }
      ]
    },
    {
      "cell_type": "code",
      "metadata": {
        "colab": {
          "base_uri": "https://localhost:8080/",
          "height": 35
        },
        "id": "-42-tloxCYAF",
        "outputId": "2a920c14-2ad0-49c6-8536-0234fa0871ef"
      },
      "source": [
        "s1.strip(\"ngh\")"
      ],
      "execution_count": 82,
      "outputs": [
        {
          "output_type": "execute_result",
          "data": {
            "application/vnd.google.colaboratory.intrinsic+json": {
              "type": "string"
            },
            "text/plain": [
              "'krishnaveerSi'"
            ]
          },
          "metadata": {
            "tags": []
          },
          "execution_count": 82
        }
      ]
    },
    {
      "cell_type": "code",
      "metadata": {
        "colab": {
          "base_uri": "https://localhost:8080/",
          "height": 35
        },
        "id": "BWZuoxSsCdXz",
        "outputId": "1f92830b-bef1-40d4-89c8-0960abe54d49"
      },
      "source": [
        "s1.swapcase()"
      ],
      "execution_count": 84,
      "outputs": [
        {
          "output_type": "execute_result",
          "data": {
            "application/vnd.google.colaboratory.intrinsic+json": {
              "type": "string"
            },
            "text/plain": [
              "'KRISHNAVEERsINGH'"
            ]
          },
          "metadata": {
            "tags": []
          },
          "execution_count": 84
        }
      ]
    },
    {
      "cell_type": "code",
      "metadata": {
        "colab": {
          "base_uri": "https://localhost:8080/",
          "height": 35
        },
        "id": "fk6NGRI1Cege",
        "outputId": "3c062732-1ad1-40e4-de88-4af8978bb3dd"
      },
      "source": [
        "s1.title()"
      ],
      "execution_count": 85,
      "outputs": [
        {
          "output_type": "execute_result",
          "data": {
            "application/vnd.google.colaboratory.intrinsic+json": {
              "type": "string"
            },
            "text/plain": [
              "'Krishnaveersingh'"
            ]
          },
          "metadata": {
            "tags": []
          },
          "execution_count": 85
        }
      ]
    },
    {
      "cell_type": "code",
      "metadata": {
        "colab": {
          "base_uri": "https://localhost:8080/",
          "height": 35
        },
        "id": "Jj5WCVe9C5nC",
        "outputId": "fcd7aeec-8348-4c9d-c6d0-f7356d29adaf"
      },
      "source": [
        "\"hi i am good\".title()"
      ],
      "execution_count": 86,
      "outputs": [
        {
          "output_type": "execute_result",
          "data": {
            "application/vnd.google.colaboratory.intrinsic+json": {
              "type": "string"
            },
            "text/plain": [
              "'Hi I Am Good'"
            ]
          },
          "metadata": {
            "tags": []
          },
          "execution_count": 86
        }
      ]
    },
    {
      "cell_type": "code",
      "metadata": {
        "colab": {
          "base_uri": "https://localhost:8080/",
          "height": 35
        },
        "id": "9SVtYIfUC_Vh",
        "outputId": "67989f27-a4de-43e9-962f-3eb42b7bae4e"
      },
      "source": [
        "s1.upper()"
      ],
      "execution_count": 87,
      "outputs": [
        {
          "output_type": "execute_result",
          "data": {
            "application/vnd.google.colaboratory.intrinsic+json": {
              "type": "string"
            },
            "text/plain": [
              "'KRISHNAVEERSINGH'"
            ]
          },
          "metadata": {
            "tags": []
          },
          "execution_count": 87
        }
      ]
    },
    {
      "cell_type": "code",
      "metadata": {
        "colab": {
          "base_uri": "https://localhost:8080/",
          "height": 35
        },
        "id": "laS1N5LQDcLD",
        "outputId": "c2a781ac-9437-48f4-e26d-8434177dd406"
      },
      "source": [
        "\"43\".zfill(5)"
      ],
      "execution_count": 88,
      "outputs": [
        {
          "output_type": "execute_result",
          "data": {
            "application/vnd.google.colaboratory.intrinsic+json": {
              "type": "string"
            },
            "text/plain": [
              "'00043'"
            ]
          },
          "metadata": {
            "tags": []
          },
          "execution_count": 88
        }
      ]
    },
    {
      "cell_type": "code",
      "metadata": {
        "id": "b9kSj0A0Dmh3"
      },
      "source": [
        "# maketrans() and translate()\n",
        "string=\"hi krishnaveer here ?\"\n",
        "str1=\"hna\"\n",
        "str2=\"123\"\n",
        "str3=\"?\"#is marked none\n",
        "table=string.maketrans(str1,str2,str3)"
      ],
      "execution_count": 89,
      "outputs": []
    },
    {
      "cell_type": "code",
      "metadata": {
        "colab": {
          "base_uri": "https://localhost:8080/",
          "height": 35
        },
        "id": "DyHTbJCmLDj9",
        "outputId": "f655f72c-43c5-4c9e-8e3c-7902771ec6bf"
      },
      "source": [
        "string.translate(table)"
      ],
      "execution_count": 90,
      "outputs": [
        {
          "output_type": "execute_result",
          "data": {
            "application/vnd.google.colaboratory.intrinsic+json": {
              "type": "string"
            },
            "text/plain": [
              "'1i kris123veer 1ere '"
            ]
          },
          "metadata": {
            "tags": []
          },
          "execution_count": 90
        }
      ]
    },
    {
      "cell_type": "code",
      "metadata": {
        "id": "To_T79ghLHxs"
      },
      "source": [
        ""
      ],
      "execution_count": null,
      "outputs": []
    }
  ]
}